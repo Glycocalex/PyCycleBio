{
  "nbformat": 4,
  "nbformat_minor": 0,
  "metadata": {
    "colab": {
      "provenance": [],
      "include_colab_link": true
    },
    "kernelspec": {
      "name": "python3",
      "display_name": "Python 3"
    },
    "language_info": {
      "name": "python"
    }
  },
  "cells": [
    {
      "cell_type": "markdown",
      "metadata": {
        "id": "view-in-github",
        "colab_type": "text"
      },
      "source": [
        "<a href=\"https://colab.research.google.com/github/Glycocalex/PyCycleBio/blob/main/PyCycleBio.ipynb\" target=\"_parent\"><img src=\"https://colab.research.google.com/assets/colab-badge.svg\" alt=\"Open In Colab\"/></a>"
      ]
    },
    {
      "cell_type": "markdown",
      "source": [
        "<img src=\"https://raw.githubusercontent.com/Glycocalex/PyCycleBio/main/images/PyCycle%20logo.jpg\" height=\"300\" align=\"center\" style=\"height:240px\">\n",
        "\n",
        "# **PyCycleBio**\n",
        "\n",
        "This notebook runs pcb analyses, allowing users to analyse data without installing python.\n",
        "\n",
        "**What is PyCycleBio?**\n",
        "PyCycleBio is a bioinformatics package designed to look for rhythms in temporal data. Pcb detects complex waveforms composed of multiple sine-waves.\n",
        "\n",
        "**Using this notebook**\n",
        "\n",
        "\n",
        "*   Run the cells in order by clicking the arrows at the top-left of each cell.\n",
        "*   When the code has finished running you can find the downloadable results in the 'folder' tab on the left of the web browser. (In the folder named 'content')\n",
        "*   If you want to run the example file, transcriptomics data from [Avarim, et al. 2021](https://journals.plos.org/plosbiology/article?id=10.1371/journal.pbio.3001492) will be used.\n",
        "*   If you wish to save any changes to your notebook you need to click on the \"Copy to Drive\" button on the top banner.\n",
        "*   Make sure your input file is in .csv format. (If you have an excel file you can do this by used: 'save as' and selecting 'csv comma spaced values' from the file type.\n",
        "*   Performing analyses typically takes 8-10 minutes for most sequencing datasets, data with extended timecourses and sampling frequencies (such as behavioural data) will take longer. *Note: installing python + pycycle locally will speed things up greatly.*\n"
      ],
      "metadata": {
        "id": "Kan1PDdxq9AY"
      }
    },
    {
      "cell_type": "code",
      "execution_count": 1,
      "metadata": {
        "colab": {
          "base_uri": "https://localhost:8080/"
        },
        "outputId": "ac29f6d1-224e-4f2b-f9f4-b6a9e6ee0c1e",
        "id": "uRONMWGBjhxk",
        "cellView": "form",
        "collapsed": true
      },
      "outputs": [
        {
          "output_type": "stream",
          "name": "stdout",
          "text": [
            "Collecting pycyclebio\n",
            "  Downloading pycyclebio-1.0.6-py3-none-any.whl.metadata (1.4 kB)\n",
            "Requirement already satisfied: scipy in /usr/local/lib/python3.11/dist-packages (from pycyclebio) (1.14.1)\n",
            "Requirement already satisfied: statsmodels in /usr/local/lib/python3.11/dist-packages (from pycyclebio) (0.14.4)\n",
            "Requirement already satisfied: pandas in /usr/local/lib/python3.11/dist-packages (from pycyclebio) (2.2.2)\n",
            "Requirement already satisfied: numpy in /usr/local/lib/python3.11/dist-packages (from pycyclebio) (2.0.2)\n",
            "Requirement already satisfied: python-dateutil>=2.8.2 in /usr/local/lib/python3.11/dist-packages (from pandas->pycyclebio) (2.8.2)\n",
            "Requirement already satisfied: pytz>=2020.1 in /usr/local/lib/python3.11/dist-packages (from pandas->pycyclebio) (2025.2)\n",
            "Requirement already satisfied: tzdata>=2022.7 in /usr/local/lib/python3.11/dist-packages (from pandas->pycyclebio) (2025.2)\n",
            "Requirement already satisfied: patsy>=0.5.6 in /usr/local/lib/python3.11/dist-packages (from statsmodels->pycyclebio) (1.0.1)\n",
            "Requirement already satisfied: packaging>=21.3 in /usr/local/lib/python3.11/dist-packages (from statsmodels->pycyclebio) (24.2)\n",
            "Requirement already satisfied: six>=1.5 in /usr/local/lib/python3.11/dist-packages (from python-dateutil>=2.8.2->pandas->pycyclebio) (1.17.0)\n",
            "Downloading pycyclebio-1.0.6-py3-none-any.whl (5.7 kB)\n",
            "Installing collected packages: pycyclebio\n",
            "Successfully installed pycyclebio-1.0.6\n"
          ]
        }
      ],
      "source": [
        "#@markdown # Step 1: Install and import necessary packages\n",
        "\n",
        "!pip install --upgrade pycyclebio\n",
        "import pandas as pd\n",
        "from pycyclebio.fitting import get_pycycle\n",
        "import pandas as pd\n",
        "from google.colab import files\n",
        "import io"
      ]
    },
    {
      "cell_type": "code",
      "source": [
        "#@markdown # Step 2 (optional): Analyse example data\n",
        "#@markdown **Note:** 'period' is the length of time per cycle.\n",
        "\n",
        "#@markdown Analyses typically take 8-10 minutes.\n",
        "\n",
        "example_data_url = 'https://raw.githubusercontent.com/Glycocalex/PyCycleBio/refs/heads/main/Example_data1.csv'\n",
        "data = pd.read_csv(example_data_url)\n",
        "\n",
        "period = 24 #@param {type:\"number\"}\n",
        "\n",
        "res = get_pycycle(data, period)\n",
        "\n",
        "res_vis = res.iloc[:,0:5]\n",
        "\n",
        "print(res_vis.head(15).to_string(index=False))\n",
        "\n",
        "res.to_csv(r'/content/PyCycleBio_results.csv', sep=',', index=False)"
      ],
      "metadata": {
        "id": "x2YzUZX3T1Hn",
        "colab": {
          "base_uri": "https://localhost:8080/"
        },
        "cellView": "form",
        "collapsed": true,
        "outputId": "2704f04e-dd40-4c23-8d1d-a6d767a09bed"
      },
      "execution_count": 5,
      "outputs": [
        {
          "output_type": "stream",
          "name": "stderr",
          "text": [
            "100%|██████████| 11727/11727 [07:22<00:00, 26.47it/s]\n"
          ]
        },
        {
          "output_type": "stream",
          "name": "stdout",
          "text": [
            "      Feature        p-val      BH-padj            Type\n",
            "         Cry1 1.040735e-16 6.280184e-13      sinusoidal\n",
            "        Arntl 1.404649e-16 6.280184e-13      sinusoidal\n",
            "         Clpx 5.331329e-16 1.589091e-12      sinusoidal\n",
            "         Per3 1.279011e-15 2.859228e-12      sinusoidal\n",
            "          Tef 2.277747e-15 3.394602e-12      sinusoidal\n",
            "         Chka 1.972660e-15 3.394602e-12      sinusoidal\n",
            "         Tars 3.033912e-15 3.875606e-12      sinusoidal\n",
            "          Por 8.193135e-15 9.157876e-12 square_waveform\n",
            "         Rorc 1.248279e-14 1.240235e-11      sinusoidal\n",
            "         Ulk1 1.650206e-14 1.475614e-11      sinusoidal\n",
            "        Mthfr 2.178812e-14 1.771176e-11      sinusoidal\n",
            "         Per2 2.502397e-14 1.864703e-11      sinusoidal\n",
            "3010026O09Rik 3.783976e-14 2.602794e-11      sinusoidal\n",
            "        Nr1d1 4.340504e-14 2.772342e-11      sinusoidal\n",
            "        Adck3 5.705780e-14 3.401406e-11      sinusoidal\n"
          ]
        }
      ]
    },
    {
      "cell_type": "code",
      "source": [
        "#@markdown # Step 3, part 1: Import your data\n",
        "\n",
        "#@markdown Running this cell will produce buttons you can use to upload your data.\n",
        "\n",
        "#@markdown **Note:** Ensure column names are formatted as 'X_Y': where X is timepoint and Y is replicate.\n",
        "#@markdown These must be seperated by and underscore. Both X and Y must contain numbers, text elements can be included.\n",
        "\n",
        "#@markdown Condition labels (C) may also be included, format your samples 'X_Y_C'\n",
        "#@markdown Condition labels **must** also include a number, i.e. 'wildtype' is not a valid label\n",
        "\n",
        "#@markdown 'ZT6_R3' and 'time24_rep1_strain2' are both valid column names\n",
        "\n",
        "\n",
        "# Upload CSV file\n",
        "uploaded = files.upload()\n",
        "\n",
        "# Get the filename\n",
        "filename = list(uploaded.keys())[0]\n",
        "\n",
        "# Read into a DataFrame\n",
        "data = pd.read_csv(io.BytesIO(uploaded[filename]))\n"
      ],
      "metadata": {
        "id": "cB_R6VHaSKN0",
        "outputId": "8b282600-a412-4c94-92f6-c75e3700293a",
        "colab": {
          "base_uri": "https://localhost:8080/",
          "height": 73
        },
        "cellView": "form",
        "collapsed": true
      },
      "execution_count": null,
      "outputs": [
        {
          "output_type": "display_data",
          "data": {
            "text/plain": [
              "<IPython.core.display.HTML object>"
            ],
            "text/html": [
              "\n",
              "     <input type=\"file\" id=\"files-00389087-07fa-4bf5-973c-ec8155bafa49\" name=\"files[]\" multiple disabled\n",
              "        style=\"border:none\" />\n",
              "     <output id=\"result-00389087-07fa-4bf5-973c-ec8155bafa49\">\n",
              "      Upload widget is only available when the cell has been executed in the\n",
              "      current browser session. Please rerun this cell to enable.\n",
              "      </output>\n",
              "      <script>// Copyright 2017 Google LLC\n",
              "//\n",
              "// Licensed under the Apache License, Version 2.0 (the \"License\");\n",
              "// you may not use this file except in compliance with the License.\n",
              "// You may obtain a copy of the License at\n",
              "//\n",
              "//      http://www.apache.org/licenses/LICENSE-2.0\n",
              "//\n",
              "// Unless required by applicable law or agreed to in writing, software\n",
              "// distributed under the License is distributed on an \"AS IS\" BASIS,\n",
              "// WITHOUT WARRANTIES OR CONDITIONS OF ANY KIND, either express or implied.\n",
              "// See the License for the specific language governing permissions and\n",
              "// limitations under the License.\n",
              "\n",
              "/**\n",
              " * @fileoverview Helpers for google.colab Python module.\n",
              " */\n",
              "(function(scope) {\n",
              "function span(text, styleAttributes = {}) {\n",
              "  const element = document.createElement('span');\n",
              "  element.textContent = text;\n",
              "  for (const key of Object.keys(styleAttributes)) {\n",
              "    element.style[key] = styleAttributes[key];\n",
              "  }\n",
              "  return element;\n",
              "}\n",
              "\n",
              "// Max number of bytes which will be uploaded at a time.\n",
              "const MAX_PAYLOAD_SIZE = 100 * 1024;\n",
              "\n",
              "function _uploadFiles(inputId, outputId) {\n",
              "  const steps = uploadFilesStep(inputId, outputId);\n",
              "  const outputElement = document.getElementById(outputId);\n",
              "  // Cache steps on the outputElement to make it available for the next call\n",
              "  // to uploadFilesContinue from Python.\n",
              "  outputElement.steps = steps;\n",
              "\n",
              "  return _uploadFilesContinue(outputId);\n",
              "}\n",
              "\n",
              "// This is roughly an async generator (not supported in the browser yet),\n",
              "// where there are multiple asynchronous steps and the Python side is going\n",
              "// to poll for completion of each step.\n",
              "// This uses a Promise to block the python side on completion of each step,\n",
              "// then passes the result of the previous step as the input to the next step.\n",
              "function _uploadFilesContinue(outputId) {\n",
              "  const outputElement = document.getElementById(outputId);\n",
              "  const steps = outputElement.steps;\n",
              "\n",
              "  const next = steps.next(outputElement.lastPromiseValue);\n",
              "  return Promise.resolve(next.value.promise).then((value) => {\n",
              "    // Cache the last promise value to make it available to the next\n",
              "    // step of the generator.\n",
              "    outputElement.lastPromiseValue = value;\n",
              "    return next.value.response;\n",
              "  });\n",
              "}\n",
              "\n",
              "/**\n",
              " * Generator function which is called between each async step of the upload\n",
              " * process.\n",
              " * @param {string} inputId Element ID of the input file picker element.\n",
              " * @param {string} outputId Element ID of the output display.\n",
              " * @return {!Iterable<!Object>} Iterable of next steps.\n",
              " */\n",
              "function* uploadFilesStep(inputId, outputId) {\n",
              "  const inputElement = document.getElementById(inputId);\n",
              "  inputElement.disabled = false;\n",
              "\n",
              "  const outputElement = document.getElementById(outputId);\n",
              "  outputElement.innerHTML = '';\n",
              "\n",
              "  const pickedPromise = new Promise((resolve) => {\n",
              "    inputElement.addEventListener('change', (e) => {\n",
              "      resolve(e.target.files);\n",
              "    });\n",
              "  });\n",
              "\n",
              "  const cancel = document.createElement('button');\n",
              "  inputElement.parentElement.appendChild(cancel);\n",
              "  cancel.textContent = 'Cancel upload';\n",
              "  const cancelPromise = new Promise((resolve) => {\n",
              "    cancel.onclick = () => {\n",
              "      resolve(null);\n",
              "    };\n",
              "  });\n",
              "\n",
              "  // Wait for the user to pick the files.\n",
              "  const files = yield {\n",
              "    promise: Promise.race([pickedPromise, cancelPromise]),\n",
              "    response: {\n",
              "      action: 'starting',\n",
              "    }\n",
              "  };\n",
              "\n",
              "  cancel.remove();\n",
              "\n",
              "  // Disable the input element since further picks are not allowed.\n",
              "  inputElement.disabled = true;\n",
              "\n",
              "  if (!files) {\n",
              "    return {\n",
              "      response: {\n",
              "        action: 'complete',\n",
              "      }\n",
              "    };\n",
              "  }\n",
              "\n",
              "  for (const file of files) {\n",
              "    const li = document.createElement('li');\n",
              "    li.append(span(file.name, {fontWeight: 'bold'}));\n",
              "    li.append(span(\n",
              "        `(${file.type || 'n/a'}) - ${file.size} bytes, ` +\n",
              "        `last modified: ${\n",
              "            file.lastModifiedDate ? file.lastModifiedDate.toLocaleDateString() :\n",
              "                                    'n/a'} - `));\n",
              "    const percent = span('0% done');\n",
              "    li.appendChild(percent);\n",
              "\n",
              "    outputElement.appendChild(li);\n",
              "\n",
              "    const fileDataPromise = new Promise((resolve) => {\n",
              "      const reader = new FileReader();\n",
              "      reader.onload = (e) => {\n",
              "        resolve(e.target.result);\n",
              "      };\n",
              "      reader.readAsArrayBuffer(file);\n",
              "    });\n",
              "    // Wait for the data to be ready.\n",
              "    let fileData = yield {\n",
              "      promise: fileDataPromise,\n",
              "      response: {\n",
              "        action: 'continue',\n",
              "      }\n",
              "    };\n",
              "\n",
              "    // Use a chunked sending to avoid message size limits. See b/62115660.\n",
              "    let position = 0;\n",
              "    do {\n",
              "      const length = Math.min(fileData.byteLength - position, MAX_PAYLOAD_SIZE);\n",
              "      const chunk = new Uint8Array(fileData, position, length);\n",
              "      position += length;\n",
              "\n",
              "      const base64 = btoa(String.fromCharCode.apply(null, chunk));\n",
              "      yield {\n",
              "        response: {\n",
              "          action: 'append',\n",
              "          file: file.name,\n",
              "          data: base64,\n",
              "        },\n",
              "      };\n",
              "\n",
              "      let percentDone = fileData.byteLength === 0 ?\n",
              "          100 :\n",
              "          Math.round((position / fileData.byteLength) * 100);\n",
              "      percent.textContent = `${percentDone}% done`;\n",
              "\n",
              "    } while (position < fileData.byteLength);\n",
              "  }\n",
              "\n",
              "  // All done.\n",
              "  yield {\n",
              "    response: {\n",
              "      action: 'complete',\n",
              "    }\n",
              "  };\n",
              "}\n",
              "\n",
              "scope.google = scope.google || {};\n",
              "scope.google.colab = scope.google.colab || {};\n",
              "scope.google.colab._files = {\n",
              "  _uploadFiles,\n",
              "  _uploadFilesContinue,\n",
              "};\n",
              "})(self);\n",
              "</script> "
            ]
          },
          "metadata": {}
        },
        {
          "output_type": "stream",
          "name": "stdout",
          "text": [
            "Saving Liver_WT_reads_pycy_labtest.csv to Liver_WT_reads_pycy_labtest.csv\n"
          ]
        }
      ]
    },
    {
      "cell_type": "code",
      "source": [
        "#@markdown # Step 3, part 2: Analyse your data\n",
        "#@markdown **Note:** 'period' is the length of time per cycle.\n",
        "\n",
        "#@markdown Analyses typically take 8-10 minutes.\n",
        "\n",
        "period = 24 #@param {type:\"number\"}\n",
        "\n",
        "res = get_pycycle(data, period)\n",
        "\n",
        "res_vis = res.iloc[:,0:4]\n",
        "\n",
        "print(res_vis.head(15).to_string(index=False))\n",
        "\n",
        "res.to_csv(r'/content/PyCycleBio_results.csv', sep=',', index=False)"
      ],
      "metadata": {
        "id": "3QQxK-JZuK01",
        "colab": {
          "base_uri": "https://localhost:8080/"
        },
        "outputId": "cfee41a8-41c1-4834-a56f-8ebcd6b02b41",
        "cellView": "form",
        "collapsed": true
      },
      "execution_count": 4,
      "outputs": [
        {
          "output_type": "stream",
          "name": "stderr",
          "text": [
            "100%|██████████| 11727/11727 [07:24<00:00, 26.41it/s]\n"
          ]
        },
        {
          "output_type": "stream",
          "name": "stdout",
          "text": [
            "      Feature        p-val      BH-padj            Type    Mod                                                                                               parameters                                                                                                                                                                                                                                                                                                                                                                                                                                                                                                                                                                                                                                                                                                                                                                                                                                                                                                                                                                        Fitted_values\n",
            "         Cry1 1.040735e-16 6.280184e-13      sinusoidal stable     [57.56820679452583, -0.02557528664629333, 1.0102175151433541, 0.7434328151522599, 60.11560849623959]                     [102.49441551133076, 102.49441551133076, 102.49441551133076, 102.49441551133076, 47.30905689367026, 47.30905689367026, 47.30905689367026, 47.30905689367026, 7.710747632938457, 7.710747632938457, 7.710747632938457, 7.710747632938457, 22.18269750187055, 22.18269750187055, 22.18269750187055, 22.18269750187055, 73.5433249994446, 73.5433249994446, 73.5433249994446, 73.5433249994446, 108.89995849245364, 108.89995849245364, 108.89995849245364, 108.89995849245364, 94.00044431507821, 94.00044431507821, 94.00044431507821, 94.00044431507821, 46.25173914266087, 46.25173914266087, 46.25173914266087, 46.25173914266087, 14.751471420233557, 14.751471420233557, 14.751471420233557, 14.751471420233557, 29.912105518585367, 29.912105518585367, 29.912105518585367, 29.912105518585367, 74.25506890993529, 74.25506890993529, 74.25506890993529, 74.25506890993529, 102.25373461214676, 102.25373461214676, 102.25373461214676, 102.25373461214676]\n",
            "        Arntl 1.404649e-16 6.280184e-13      sinusoidal stable [47.557188973484095, -0.027510610996620787, 1.0014198818480342, 0.18404889244410222, 38.771632522409824]                     [85.52561666799312, 85.52561666799312, 85.52561666799312, 85.52561666799312, 54.09654869346707, 54.09654869346707, 54.09654869346707, 54.09654869346707, 9.48674068443227, 9.48674068443227, 9.48674068443227, 9.48674068443227, -4.075197301125698, -4.075197301125698, -4.075197301125698, -4.075197301125698, 24.894069749850125, 24.894069749850125, 24.894069749850125, 24.894069749850125, 65.77075826106274, 65.77075826106274, 65.77075826106274, 65.77075826106274, 78.03701280872986, 78.03701280872986, 78.03701280872986, 78.03701280872986, 51.33620432768386, 51.33620432768386, 51.33620432768386, 51.33620432768386, 13.881014628934878, 13.881014628934878, 13.881014628934878, 13.881014628934878, 2.7890815031784726, 2.7890815031784726, 2.7890815031784726, 2.7890815031784726, 27.397992816968447, 27.397992816968447, 27.397992816968447, 27.397992816968447, 61.71735612828185, 61.71735612828185, 61.71735612828185, 61.71735612828185]\n",
            "         Clpx 5.331329e-16 1.589091e-12      sinusoidal stable    [294.6479035935635, -0.008026843658070564, 1.0213333822486592, -0.282933129430461, 355.7105577533743]                     [638.643472401829, 638.643472401829, 638.643472401829, 638.643472401829, 562.0647008825975, 562.0647008825975, 562.0647008825975, 562.0647008825975, 274.1529098305947, 274.1529098305947, 274.1529098305947, 274.1529098305947, 75.07087810817666, 75.07087810817666, 75.07087810817666, 75.07087810817666, 168.45482936060972, 168.45482936060972, 168.45482936060972, 168.45482936060972, 453.21427087076535, 453.21427087076535, 453.21427087076535, 453.21427087076535, 632.7670441927985, 632.7670441927985, 632.7670441927985, 632.7670441927985, 523.8712197613971, 523.8712197613971, 523.8712197613971, 523.8712197613971, 243.53242396056908, 243.53242396056908, 243.53242396056908, 243.53242396056908, 83.44586790848803, 83.44586790848803, 83.44586790848803, 83.44586790848803, 206.54633381433013, 206.54633381433013, 206.54633381433013, 206.54633381433013, 481.28066305509697, 481.28066305509697, 481.28066305509697, 481.28066305509697]\n",
            "         Per3 1.279011e-15 2.859228e-12      sinusoidal forced     [20.11284477211175, 0.030167731378080983, 1.020435975810211, 2.7671523811965573, 22.053491326018268]                 [3.3342155075760367, 3.3342155075760367, 3.3342155075760367, 3.3342155075760367, 6.098747155538861, 6.098747155538861, 6.098747155538861, 6.098747155538861, 26.140944265973914, 26.140944265973914, 26.140944265973914, 26.140944265973914, 43.11015233342167, 43.11015233342167, 43.11015233342167, 43.11015233342167, 38.62147207895184, 38.62147207895184, 38.62147207895184, 38.62147207895184, 16.085520019646935, 16.085520019646935, 16.085520019646935, 16.085520019646935, -1.5248971038394998, -1.5248971038394998, -1.5248971038394998, -1.5248971038394998, 4.983076393992992, 4.983076393992992, 4.983076393992992, 4.983076393992992, 30.20844032123534, 30.20844032123534, 30.20844032123534, 30.20844032123534, 48.34007785857598, 48.34007785857598, 48.34007785857598, 48.34007785857598, 39.48517164168618, 39.48517164168618, 39.48517164168618, 39.48517164168618, 11.37266582132159, 11.37266582132159, 11.37266582132159, 11.37266582132159]\n",
            "          Tef 2.277747e-15 3.394602e-12      sinusoidal stable   [220.88085205129647, 0.007598366749001291, 1.0264991087445738, 2.8331200391044686, 304.77429963916416]                         [94.31937699436398, 94.31937699436398, 94.31937699436398, 94.31937699436398, 144.3893936798142, 144.3893936798142, 144.3893936798142, 144.3893936798142, 364.77058982455105, 364.77058982455105, 364.77058982455105, 364.77058982455105, 525.2779572366336, 525.2779572366336, 525.2779572366336, 525.2779572366336, 455.3136233642722, 455.3136233642722, 455.3136233642722, 455.3136233642722, 225.12460270055453, 225.12460270055453, 225.12460270055453, 225.12460270055453, 75.4234213216798, 75.4234213216798, 75.4234213216798, 75.4234213216798, 165.7177586220622, 165.7177586220622, 165.7177586220622, 165.7177586220622, 404.4269505672332, 404.4269505672332, 404.4269505672332, 404.4269505672332, 541.6442067253203, 541.6442067253203, 541.6442067253203, 541.6442067253203, 430.71895648025117, 430.71895648025117, 430.71895648025117, 430.71895648025117, 184.90562551026687, 184.90562551026687, 184.90562551026687, 184.90562551026687]\n",
            "         Chka 1.972660e-15 3.394602e-12      sinusoidal damped      [357.1977010734568, -0.03473047245639959, 1.007152885984763, 0.127830437317082, 288.25501160009486]                 [642.5382684954955, 642.5382684954955, 642.5382684954955, 642.5382684954955, 418.65826023877037, 418.65826023877037, 418.65826023877037, 418.65826023877037, 82.93795221586777, 82.93795221586777, 82.93795221586777, 82.93795221586777, -28.409313188543138, -28.409313188543138, -28.409313188543138, -28.409313188543138, 177.7835765088601, 177.7835765088601, 177.7835765088601, 177.7835765088601, 477.56239352947534, 477.56239352947534, 477.56239352947534, 477.56239352947534, 571.148724081122, 571.148724081122, 571.148724081122, 571.148724081122, 381.4718804541278, 381.4718804541278, 381.4718804541278, 381.4718804541278, 113.92703345463846, 113.92703345463846, 113.92703345463846, 113.92703345463846, 35.66193211210668, 35.66193211210668, 35.66193211210668, 35.66193211210668, 209.94816192349924, 209.94816192349924, 209.94816192349924, 209.94816192349924, 448.5987085489443, 448.5987085489443, 448.5987085489443, 448.5987085489443]\n",
            "         Tars 3.033912e-15 3.875606e-12      sinusoidal stable [281.26158244254907, 0.006343887574689748, 0.9826051261235351, -0.027147156325675114, 684.9933267010848]                                     [966.1512751019247, 966.1512751019247, 966.1512751019247, 966.1512751019247, 837.5351925170598, 837.5351925170598, 837.5351925170598, 837.5351925170598, 558.452592268718, 558.452592268718, 558.452592268718, 558.452592268718, 399.0292729363158, 399.0292729363158, 399.0292729363158, 399.0292729363158, 516.3221783469213, 516.3221783469213, 516.3221783469213, 516.3221783469213, 799.6580966270408, 799.6580966270408, 799.6580966270408, 799.6580966270408, 974.9720841088781, 974.9720841088781, 974.9720841088781, 974.9720841088781, 869.8675809730636, 869.8675809730636, 869.8675809730636, 869.8675809730636, 583.0831559081762, 583.0831559081762, 583.0831559081762, 583.0831559081762, 391.83730408535473, 391.83730408535473, 391.83730408535473, 391.83730408535473, 483.8950568689676, 483.8950568689676, 483.8950568689676, 483.8950568689676, 773.2785493653513, 773.2785493653513, 773.2785493653513, 773.2785493653513]\n",
            "          Por 8.193135e-15 9.157876e-12 square_waveform forced     [1000.9555792739973, 0.03795916812555536, 0.9907746636824517, -2.08066451537896, 1692.7430961282416]                         [829.405076717984, 829.405076717984, 829.405076717984, 829.405076717984, 789.6858636027728, 789.6858636027728, 789.6858636027728, 789.6858636027728, 1682.1395149508637, 1682.1395149508637, 1682.1395149508637, 1682.1395149508637, 2673.568701364427, 2673.568701364427, 2673.568701364427, 2673.568701364427, 2701.3858688715072, 2701.3858688715072, 2701.3858688715072, 2701.3858688715072, 1766.555007608643, 1766.555007608643, 1766.555007608643, 1766.555007608643, 579.5440730947385, 579.5440730947385, 579.5440730947385, 579.5440730947385, 567.0440223575297, 567.0440223575297, 567.0440223575297, 567.0440223575297, 1540.1907197654423, 1540.1907197654423, 1540.1907197654423, 1540.1907197654423, 2954.7417558240904, 2954.7417558240904, 2954.7417558240904, 2954.7417558240904, 2948.30719637343, 2948.30719637343, 2948.30719637343, 2948.30719637343, 1942.1600351391608, 1942.1600351391608, 1942.1600351391608, 1942.1600351391608]\n",
            "         Rorc 1.248279e-14 1.240235e-11      sinusoidal stable    [90.65506707176287, 0.024391310539882048, 1.0025644044327793, 1.2713735765374463, 180.62528688966364]             [207.36569323969775, 207.36569323969775, 207.36569323969775, 207.36569323969775, 117.20126275486616, 117.20126275486616, 117.20126275486616, 117.20126275486616, 87.72132315839042, 87.72132315839042, 87.72132315839042, 87.72132315839042, 152.50963302259714, 152.50963302259714, 152.50963302259714, 152.50963302259714, 249.6897824279412, 249.6897824279412, 249.6897824279412, 249.6897824279412, 280.736041953586, 280.736041953586, 280.736041953586, 280.736041953586, 210.16366588436782, 210.16366588436782, 210.16366588436782, 210.16366588436782, 105.42901406937592, 105.42901406937592, 105.42901406937592, 105.42901406937592, 72.75610391126894, 72.75610391126894, 72.75610391126894, 72.75610391126894, 149.61796515320253, 149.61796515320253, 149.61796515320253, 149.61796515320253, 262.4866935350922, 262.4866935350922, 262.4866935350922, 262.4866935350922, 296.84614610147537, 296.84614610147537, 296.84614610147537, 296.84614610147537]\n",
            "         Ulk1 1.650206e-14 1.475614e-11      sinusoidal stable    [81.98505172717519, 0.006244768495972139, 1.0445837747540474, -2.445484034203524, 189.83177679479348] [126.92109777979127, 126.92109777979127, 126.92109777979127, 126.92109777979127, 207.77612415453262, 207.77612415453262, 207.77612415453262, 207.77612415453262, 270.15298880135873, 270.15298880135873, 270.15298880135873, 270.15298880135873, 245.87579165060885, 245.87579165060885, 245.87579165060885, 245.87579165060885, 160.24325358829307, 160.24325358829307, 160.24325358829307, 160.24325358829307, 105.70727902755354, 105.70727902755354, 105.70727902755354, 105.70727902755354, 142.0706271003014, 142.0706271003014, 142.0706271003014, 142.0706271003014, 230.92782727263437, 230.92782727263437, 230.92782727263437, 230.92782727263437, 276.1984386014809, 276.1984386014809, 276.1984386014809, 276.1984386014809, 228.00588083512946, 228.00588083512946, 228.00588083512946, 228.00588083512946, 137.6046834099887, 137.6046834099887, 137.6046834099887, 137.6046834099887, 102.89220897386879, 102.89220897386879, 102.89220897386879, 102.89220897386879]\n",
            "        Mthfr 2.178812e-14 1.771176e-11      sinusoidal stable    [25.107066548112922, 0.025947970037427475, 0.962838924422354, 0.4690590075082312, 31.733536485340867]     [54.12889060984253, 54.12889060984253, 54.12889060984253, 54.12889060984253, 34.141034591833254, 34.141034591833254, 34.141034591833254, 34.141034591833254, 10.726061312088163, 10.726061312088163, 10.726061312088163, 10.726061312088163, 6.167197249059374, 6.167197249059374, 6.167197249059374, 6.167197249059374, 25.893319697723108, 25.893319697723108, 25.893319697723108, 25.893319697723108, 52.32680252007545, 52.32680252007545, 52.32680252007545, 52.32680252007545, 60.47033174354967, 60.47033174354967, 60.47033174354967, 60.47033174354967, 41.485944357478004, 41.485944357478004, 41.485944357478004, 41.485944357478004, 12.080544357103193, 12.080544357103193, 12.080544357103193, 12.080544357103193, -0.10339352692890458, -0.10339352692890458, -0.10339352692890458, -0.10339352692890458, 17.59056525473848, 17.59056525473848, 17.59056525473848, 17.59056525473848, 49.84770568090298, 49.84770568090298, 49.84770568090298, 49.84770568090298]\n",
            "         Per2 2.502397e-14 1.864703e-11      sinusoidal forced      [33.132677400264434, 0.03339573965942614, 1.025783569867441, 2.0081732257816785, 40.44332945612509]                         [26.40949532200418, 26.40949532200418, 26.40949532200418, 26.40949532200418, 6.191589926905792, 6.191589926905792, 6.191589926905792, 6.191589926905792, 21.69466722377616, 21.69466722377616, 21.69466722377616, 21.69466722377616, 58.67557607322745, 58.67557607322745, 58.67557607322745, 58.67557607322745, 78.54166407226836, 78.54166407226836, 78.54166407226836, 78.54166407226836, 58.48518810111793, 58.48518810111793, 58.48518810111793, 58.48518810111793, 17.3883440974294, 17.3883440974294, 17.3883440974294, 17.3883440974294, -1.6560177432845151, -1.6560177432845151, -1.6560177432845151, -1.6560177432845151, 23.625454442879757, 23.625454442879757, 23.625454442879757, 23.625454442879757, 68.99700556030238, 68.99700556030238, 68.99700556030238, 68.99700556030238, 86.65606214069601, 86.65606214069601, 86.65606214069601, 86.65606214069601, 55.423185748369086, 55.423185748369086, 55.423185748369086, 55.423185748369086]\n",
            "3010026O09Rik 3.783976e-14 2.602794e-11      sinusoidal stable   [39.845596264172606, 0.006493407376654886, 1.0083384348723134, -1.3715875879962645, 50.79549908879115]                     [58.680694750870884, 58.680694750870884, 58.680694750870884, 58.680694750870884, 88.93085221549799, 88.93085221549799, 88.93085221549799, 88.93085221549799, 80.61572651165633, 80.61572651165633, 80.61572651165633, 80.61572651165633, 41.70643939315721, 41.70643939315721, 41.70643939315721, 41.70643939315721, 11.554628904617765, 11.554628904617765, 11.554628904617765, 11.554628904617765, 21.099436156260538, 21.099436156260538, 21.099436156260538, 21.099436156260538, 61.12832953061598, 61.12832953061598, 61.12832953061598, 61.12832953061598, 91.14377475339194, 91.14377475339194, 91.14377475339194, 91.14377475339194, 80.32881686918218, 80.32881686918218, 80.32881686918218, 80.32881686918218, 39.178728678787934, 39.178728678787934, 39.178728678787934, 39.178728678787934, 9.339096787242255, 9.339096787242255, 9.339096787242255, 9.339096787242255, 21.46493063784673, 21.46493063784673, 21.46493063784673, 21.46493063784673]\n",
            "        Nr1d1 4.340504e-14 2.772342e-11      sinusoidal damped   [476.2443902510268, -0.04564772447938562, 1.0255798485684366, -2.0614607299218264, 269.78906106054256]                         [45.37698517264664, 45.37698517264664, 45.37698517264664, 45.37698517264664, 519.8593961449485, 519.8593961449485, 519.8593961449485, 519.8593961449485, 700.9925989029811, 700.9925989029811, 700.9925989029811, 700.9925989029811, 434.3774648894223, 434.3774648894223, 434.3774648894223, 434.3774648894223, 27.471621849973417, 27.471621849973417, 27.471621849973417, 27.471621849973417, -99.99983777999438, -99.99983777999438, -99.99983777999438, -99.99983777999438, 153.96547938161672, 153.96547938161672, 153.96547938161672, 153.96547938161672, 500.6066897518756, 500.6066897518756, 500.6066897518756, 500.6066897518756, 584.8088376584601, 584.8088376584601, 584.8088376584601, 584.8088376584601, 346.29224865117095, 346.29224865117095, 346.29224865117095, 346.29224865117095, 53.0143085845115, 53.0143085845115, 53.0143085845115, 53.0143085845115, 3.266111184602835, 3.266111184602835, 3.266111184602835, 3.266111184602835]\n",
            "        Adck3 5.705780e-14 3.401406e-11      sinusoidal stable     [46.53419583468443, -0.027074493031188668, 0.949951381191449, 0.2774282678198513, 58.02631070671516]                                 [102.781177198192, 102.781177198192, 102.781177198192, 102.781177198192, 71.33236573275263, 71.33236573275263, 71.33236573275263, 71.33236573275263, 29.828573597905063, 29.828573597905063, 29.828573597905063, 29.828573597905063, 15.594878159307903, 15.594878159307903, 15.594878159307903, 15.594878159307903, 39.738473862892846, 39.738473862892846, 39.738473862892846, 39.738473862892846, 78.75343311601753, 78.75343311601753, 78.75343311601753, 78.75343311601753, 97.25417713755485, 97.25417713755485, 97.25417713755485, 97.25417713755485, 79.98063810835626, 79.98063810835626, 79.98063810835626, 79.98063810835626, 44.20863953466301, 44.20863953466301, 44.20863953466301, 44.20863953466301, 22.65057139963921, 22.65057139963921, 22.65057139963921, 22.65057139963921, 33.62248949963582, 33.62248949963582, 33.62248949963582, 33.62248949963582, 65.6104143052073, 65.6104143052073, 65.6104143052073, 65.6104143052073]\n"
          ]
        }
      ]
    }
  ]
}
